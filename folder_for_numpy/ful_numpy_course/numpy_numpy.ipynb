{
 "cells": [
  {
   "cell_type": "code",
   "execution_count": 1,
   "id": "c9d5f31e-12eb-4da3-b98e-5455ff476cfb",
   "metadata": {},
   "outputs": [],
   "source": [
    "import numpy as np"
   ]
  },
  {
   "cell_type": "code",
   "execution_count": 2,
   "id": "28e2339c-ffda-442e-9366-2ab107f83bfb",
   "metadata": {},
   "outputs": [],
   "source": [
    "x=np.array([1,2,3,4])"
   ]
  },
  {
   "cell_type": "code",
   "execution_count": 3,
   "id": "92cdbab3-e774-434b-b7a0-f89cde54d8cf",
   "metadata": {},
   "outputs": [
    {
     "name": "stdout",
     "output_type": "stream",
     "text": [
      "<class 'numpy.ndarray'>\n"
     ]
    }
   ],
   "source": [
    "print(type(x))"
   ]
  },
  {
   "cell_type": "code",
   "execution_count": 4,
   "id": "1f359a2c-45cc-44b5-8a98-7a1d0c3b804c",
   "metadata": {},
   "outputs": [],
   "source": [
    "#type function tell us the class of variable and the class of numpy array is numpy.ndarray"
   ]
  },
  {
   "cell_type": "code",
   "execution_count": 5,
   "id": "d0e82282-5132-4919-9088-190d1c7e4fb4",
   "metadata": {},
   "outputs": [],
   "source": [
    "#numpy array only contain one type of data type"
   ]
  },
  {
   "cell_type": "code",
   "execution_count": 6,
   "id": "f2f781bc-789d-4e51-b912-39eb4c6e151c",
   "metadata": {},
   "outputs": [
    {
     "name": "stdout",
     "output_type": "stream",
     "text": [
      "3.23 μs ± 255 ns per loop (mean ± std. dev. of 7 runs, 1,000,000 loops each)\n"
     ]
    }
   ],
   "source": [
    "%timeit np.arange(1,9)**4"
   ]
  },
  {
   "cell_type": "code",
   "execution_count": 7,
   "id": "1d66dfe8-0667-45d5-a77a-829b7d68ab86",
   "metadata": {},
   "outputs": [],
   "source": [
    "#actually %timeit function give the time taken by the command"
   ]
  },
  {
   "cell_type": "code",
   "execution_count": 8,
   "id": "19d87627-32f3-4f4a-b7da-212a1ec4dd9e",
   "metadata": {},
   "outputs": [
    {
     "name": "stdout",
     "output_type": "stream",
     "text": [
      "1\n"
     ]
    }
   ],
   "source": [
    "print(x.ndim)"
   ]
  },
  {
   "cell_type": "code",
   "execution_count": 9,
   "id": "c98c5032-7686-4975-8643-8712c0096ad5",
   "metadata": {},
   "outputs": [],
   "source": [
    "y=np.array([[1,2,3,4],[2,3,4,5]])"
   ]
  },
  {
   "cell_type": "code",
   "execution_count": 10,
   "id": "31373ea1-329f-43d8-8da1-965007c74245",
   "metadata": {},
   "outputs": [
    {
     "name": "stdout",
     "output_type": "stream",
     "text": [
      "2\n"
     ]
    }
   ],
   "source": [
    "print(y.ndim)"
   ]
  },
  {
   "cell_type": "code",
   "execution_count": 11,
   "id": "3c413677-8029-41b7-8ad7-1d1a4e9d7303",
   "metadata": {},
   "outputs": [
    {
     "name": "stdout",
     "output_type": "stream",
     "text": [
      "[[[[[[[[[[1 2 3 4]]]]]]]]]]\n",
      "10\n"
     ]
    }
   ],
   "source": [
    "z=np.array([1,2,3,4], ndmin=10)\n",
    "print(z)\n",
    "print(z.ndim)"
   ]
  },
  {
   "cell_type": "code",
   "execution_count": 12,
   "id": "bfc54fe5-858d-4501-9d4f-7d6f5d3bf8a7",
   "metadata": {},
   "outputs": [],
   "source": [
    "#actually ndim tell the dimension of the array and ndmin is use to make the array of n-dimension"
   ]
  },
  {
   "cell_type": "code",
   "execution_count": 13,
   "id": "db03b58b-f35f-4c28-8554-730b74003fcc",
   "metadata": {},
   "outputs": [
    {
     "name": "stdout",
     "output_type": "stream",
     "text": [
      "[[0. 0. 0. 0.]\n",
      " [0. 0. 0. 0.]\n",
      " [0. 0. 0. 0.]]\n"
     ]
    }
   ],
   "source": [
    "ar_zero=np.zeros((3,4))\n",
    "print(ar_zero)"
   ]
  },
  {
   "cell_type": "code",
   "execution_count": 14,
   "id": "f5c5659b-55a7-4a73-b65b-f4edfddb0eb5",
   "metadata": {},
   "outputs": [],
   "source": [
    "#np.zeros function is use to make the array of any dimension with all entries filled with zero "
   ]
  },
  {
   "cell_type": "code",
   "execution_count": 15,
   "id": "07c7d78f-e28e-4f9b-9f0f-7c1081a47346",
   "metadata": {},
   "outputs": [],
   "source": [
    "#similarly np.ones is use to make the array of any dimension with all entries filled with one"
   ]
  },
  {
   "cell_type": "code",
   "execution_count": 16,
   "id": "2edac531-e1ec-4998-8bc5-e86617220628",
   "metadata": {},
   "outputs": [
    {
     "name": "stdout",
     "output_type": "stream",
     "text": [
      "[[1.e-323 0.e+000 0.e+000]\n",
      " [0.e+000 0.e+000 0.e+000]]\n"
     ]
    }
   ],
   "source": [
    "ar_emp = np.empty((2,3))\n",
    "print(ar_emp)"
   ]
  },
  {
   "cell_type": "code",
   "execution_count": 17,
   "id": "56404da5-1ca6-4cdb-aac0-149ca523613a",
   "metadata": {},
   "outputs": [
    {
     "name": "stdout",
     "output_type": "stream",
     "text": [
      "[[0. 0. 0. 0.]\n",
      " [0. 0. 0. 0.]\n",
      " [0. 0. 0. 0.]]\n"
     ]
    }
   ],
   "source": [
    "ar_emp2 = np.empty((3,4))\n",
    "print(ar_emp2)"
   ]
  },
  {
   "cell_type": "code",
   "execution_count": 18,
   "id": "7ca0e17f-886f-4215-8ddf-adbb99bdd073",
   "metadata": {},
   "outputs": [],
   "source": [
    "#np.empty function is use to make the array of empty values means any random values and if any array in the program exist with the same dimension then it contain the value of that array"
   ]
  },
  {
   "cell_type": "code",
   "execution_count": 19,
   "id": "c2a5ce36-8db6-469b-a6f1-76ff5139d97e",
   "metadata": {},
   "outputs": [
    {
     "name": "stdout",
     "output_type": "stream",
     "text": [
      "[[1. 0. 0.]\n",
      " [0. 1. 0.]\n",
      " [0. 0. 1.]]\n"
     ]
    }
   ],
   "source": [
    "ar_dia = np.eye(3)\n",
    "print(ar_dia)"
   ]
  },
  {
   "cell_type": "code",
   "execution_count": 20,
   "id": "e3bca530-b283-4f39-86fe-f7d83e2fe2dc",
   "metadata": {},
   "outputs": [],
   "source": [
    "#np.eye function is used to make the identity matrix of n dimension, it can be used in both sqaure matrix and non-square matrix"
   ]
  },
  {
   "cell_type": "code",
   "execution_count": 21,
   "id": "ce73a59d-fdf6-42b9-806e-7137b9b02479",
   "metadata": {},
   "outputs": [
    {
     "name": "stdout",
     "output_type": "stream",
     "text": [
      "[0 1 2 3]\n"
     ]
    }
   ],
   "source": [
    "ar_rn= np.arange(4)\n",
    "print(ar_rn)"
   ]
  },
  {
   "cell_type": "code",
   "execution_count": 22,
   "id": "97db4198-5732-45e7-900c-b10d85df16c6",
   "metadata": {},
   "outputs": [],
   "source": [
    "#here arange function is ussed as saame as range function in python"
   ]
  },
  {
   "cell_type": "code",
   "execution_count": 23,
   "id": "3912eeb8-ca7e-45f5-8022-840c91330046",
   "metadata": {},
   "outputs": [
    {
     "name": "stdout",
     "output_type": "stream",
     "text": [
      "[ 0.  5. 10. 15. 20.]\n"
     ]
    }
   ],
   "source": [
    "ar_lin=np.linspace(0,20,num=5)\n",
    "print(ar_lin)"
   ]
  },
  {
   "cell_type": "code",
   "execution_count": 24,
   "id": "7e46c7db-a4ce-45f7-bfde-0bb67cfb5adb",
   "metadata": {},
   "outputs": [],
   "source": [
    "#np.linspace function is a type of arange function in which elements are printing in a particular gap"
   ]
  },
  {
   "cell_type": "code",
   "execution_count": 25,
   "id": "8c803486-5e58-40eb-8f90-962c9db39514",
   "metadata": {},
   "outputs": [
    {
     "name": "stdout",
     "output_type": "stream",
     "text": [
      "[[0.48391668 0.62117189 0.45390406 0.82912978]\n",
      " [0.52222836 0.39539812 0.33804829 0.82224872]\n",
      " [0.80023425 0.94739047 0.84139176 0.46670157]\n",
      " [0.60715087 0.21106784 0.36412789 0.54625933]]\n"
     ]
    }
   ],
   "source": [
    "#rand() function is use to randomly generate the number between 0 and 1 of any dimension\n",
    "var= np.random.rand(4,4)\n",
    "print(var)"
   ]
  },
  {
   "cell_type": "code",
   "execution_count": 26,
   "id": "2a8b6c32-96e4-4125-bdf4-ac9d90a2251d",
   "metadata": {},
   "outputs": [
    {
     "name": "stdout",
     "output_type": "stream",
     "text": [
      "[[-0.55865157  0.88908672  1.79450321 -0.30339447]\n",
      " [-1.02818941  0.20423167 -1.73538137 -0.56745948]\n",
      " [ 0.09777439  2.39038117 -0.32426899 -0.31702766]]\n"
     ]
    }
   ],
   "source": [
    "#randn() function is use to generate a random value close to zero. this may return positive or negative numbers as well.\n",
    "var1=np.random.randn(3,4)\n",
    "print(var1)"
   ]
  },
  {
   "cell_type": "code",
   "execution_count": 27,
   "id": "80c7f8ef-98a2-4e9d-9639-1797dce30f89",
   "metadata": {},
   "outputs": [
    {
     "name": "stdout",
     "output_type": "stream",
     "text": [
      "[0.42523172 0.69946628 0.25811193 0.86310051]\n"
     ]
    }
   ],
   "source": [
    "#ranf() function is use to generate a random floats value in the half open interval [0.0, 1.0), make sure it doesn't accept m*n dimension.\n",
    "var2=np.random.ranf(4)\n",
    "print(var2)"
   ]
  },
  {
   "cell_type": "code",
   "execution_count": 28,
   "id": "8d23c539-495f-4cd0-889b-382c9e36ae55",
   "metadata": {},
   "outputs": [
    {
     "name": "stdout",
     "output_type": "stream",
     "text": [
      "[10 10]\n"
     ]
    }
   ],
   "source": [
    "#randint function is use to generate the number between a particular range you can allot, this function is cal as same as range function means (initial value , final value , no. of values you want between them)\n",
    "var3=np.random.randint(3,11,2)\n",
    "print(var3)"
   ]
  },
  {
   "cell_type": "code",
   "execution_count": 29,
   "id": "c0381024-a8d8-4d2e-a819-876a49c4c483",
   "metadata": {},
   "outputs": [
    {
     "name": "stdout",
     "output_type": "stream",
     "text": [
      "<U1\n"
     ]
    }
   ],
   "source": [
    "#dtype function is used to identify the data type of a variable\n",
    "var4=np.array([\"a\"])\n",
    "print(var4.dtype)"
   ]
  },
  {
   "cell_type": "code",
   "execution_count": 30,
   "id": "d6bf71ca-80c2-47cf-a599-5e5725720c7a",
   "metadata": {},
   "outputs": [],
   "source": [
    "#<U1 is a string data type"
   ]
  },
  {
   "cell_type": "code",
   "execution_count": 31,
   "id": "8cf3f652-302d-48e0-bcd3-f967bb0048c1",
   "metadata": {},
   "outputs": [
    {
     "name": "stdout",
     "output_type": "stream",
     "text": [
      "int8\n",
      "[1 2 3 4]\n"
     ]
    }
   ],
   "source": [
    "#dtype is also use to converting the data type \n",
    "z=np.array([1,2,3,4], dtype= np.int8)\n",
    "print(z.dtype)\n",
    "print(z)"
   ]
  },
  {
   "cell_type": "code",
   "execution_count": 32,
   "id": "e648982a-bd66-4842-aa50-0bce747c90dd",
   "metadata": {},
   "outputs": [
    {
     "name": "stdout",
     "output_type": "stream",
     "text": [
      "[1 2 3 4]\n",
      "[1. 2. 3. 4.]\n"
     ]
    }
   ],
   "source": [
    "#therer is one more function astype(reqdatatype) to convert the data type\n",
    "z1=np.array([1,2,3,4])\n",
    "new_1=z1.astype(float)\n",
    "print(z1)\n",
    "print(new_1)"
   ]
  },
  {
   "cell_type": "code",
   "execution_count": 33,
   "id": "d5d00e21-1a7e-4b63-b39c-6ec4cbcb9518",
   "metadata": {},
   "outputs": [
    {
     "name": "stdout",
     "output_type": "stream",
     "text": [
      "[4 5 6 7]\n"
     ]
    }
   ],
   "source": [
    "#we can do add operation , we can add all numbers of an array with a number or also can add two array simply by + operator and also by using add function and we can do it to use any operator like mod or reciprocal \n",
    "#naya=z1+3\n",
    "naya = np.add(z1,3)\n",
    "print(naya)"
   ]
  },
  {
   "cell_type": "code",
   "execution_count": 34,
   "id": "532c2580-4eaa-42ab-8194-f8762b761719",
   "metadata": {},
   "outputs": [
    {
     "name": "stdout",
     "output_type": "stream",
     "text": [
      "[2 4 6 8]\n"
     ]
    }
   ],
   "source": [
    "print(z1+z1)"
   ]
  },
  {
   "cell_type": "code",
   "execution_count": 35,
   "id": "a73a41c9-fc75-439b-93ea-69cbaa6aed75",
   "metadata": {},
   "outputs": [
    {
     "name": "stdout",
     "output_type": "stream",
     "text": [
      "min:  1 0\n"
     ]
    }
   ],
   "source": [
    "#there are many functions in numpy like min , max etc\n",
    "#and there is a function called argmin for min and argmax for max which tells the position of minimum and maximum element present in the array\n",
    "bb=np.array([1,2,3,4,5,3,2])\n",
    "print(\"min: \",np.min(bb),np.argmin(bb))"
   ]
  },
  {
   "cell_type": "code",
   "execution_count": 36,
   "id": "d508274a-a4f4-4e32-810a-df32ba2278af",
   "metadata": {},
   "outputs": [
    {
     "name": "stdout",
     "output_type": "stream",
     "text": [
      "[2 1 3]\n"
     ]
    }
   ],
   "source": [
    "bb1= np.array([[2,1,3],[9,5,6]])\n",
    "print(np.min(bb1, axis=0))"
   ]
  },
  {
   "cell_type": "code",
   "execution_count": 37,
   "id": "50086428-1ac4-4dac-a26b-4f3ae931f77e",
   "metadata": {},
   "outputs": [],
   "source": [
    "#axix 0 is actually use for rows and axis 1 is use for columns "
   ]
  },
  {
   "cell_type": "code",
   "execution_count": 38,
   "id": "26714c19-301c-431d-afec-edd26d23067f",
   "metadata": {},
   "outputs": [],
   "source": [
    "#cumsum function is use to forward addition like 1 , 2, 3 = 1 ,3,6"
   ]
  },
  {
   "cell_type": "code",
   "execution_count": 39,
   "id": "d38cdd17-6d3d-422e-a17d-f7e40a35aa04",
   "metadata": {},
   "outputs": [
    {
     "name": "stdout",
     "output_type": "stream",
     "text": [
      "[[[9 8 7]\n",
      "  [6 5 4]]]\n",
      "3\n",
      "9\n",
      "8\n",
      "7\n",
      "6\n",
      "5\n",
      "4\n"
     ]
    }
   ],
   "source": [
    "#nditer() function is used to iterate all numbers of any dimension of matrix\n",
    "bb2 = np.array([[[9,8,7],[6,5,4]]])\n",
    "print(bb2)\n",
    "print(bb2.ndim)\n",
    "\n",
    "for i in np.nditer(bb2):\n",
    "    print(i)"
   ]
  },
  {
   "cell_type": "code",
   "execution_count": 40,
   "id": "c3ed69d2-e089-4dd6-ab5f-e16aecebb5e1",
   "metadata": {},
   "outputs": [
    {
     "name": "stdout",
     "output_type": "stream",
     "text": [
      "[[[9 8 7]\n",
      "  [6 5 4]]]\n",
      "3\n",
      "(0, 0, 0) 9\n",
      "(0, 0, 1) 8\n",
      "(0, 0, 2) 7\n",
      "(0, 1, 0) 6\n",
      "(0, 1, 1) 5\n",
      "(0, 1, 2) 4\n"
     ]
    }
   ],
   "source": [
    "#ndenumerate is a function which print all the elements of the array of any dimension with indexing\n",
    "bb3 = np.array([[[9,8,7],[6,5,4]]])\n",
    "print(bb3)\n",
    "print(bb3.ndim)\n",
    "\n",
    "for i,d in np.ndenumerate(bb3):\n",
    "    print(i,d)"
   ]
  },
  {
   "cell_type": "code",
   "execution_count": 41,
   "id": "4e989889-71cd-4705-a478-182d70d773f9",
   "metadata": {},
   "outputs": [
    {
     "name": "stdout",
     "output_type": "stream",
     "text": [
      "[ 1 20  3  4]\n",
      "[1 2 3 4]\n"
     ]
    }
   ],
   "source": [
    "#copy function is used to copy the data of the array\n",
    "ar=np.array([1,2,3,4])\n",
    "co=ar.copy()\n",
    "ar[1]=20\n",
    "print(ar)\n",
    "print(co)"
   ]
  },
  {
   "cell_type": "code",
   "execution_count": 42,
   "id": "418dc7b6-5a79-408a-9e3b-5d268ea088bc",
   "metadata": {},
   "outputs": [
    {
     "name": "stdout",
     "output_type": "stream",
     "text": [
      "[ 1  2 20  4]\n",
      "[ 1  2 20  4]\n"
     ]
    }
   ],
   "source": [
    "ar1=np.array([1,2,3,4])\n",
    "vi=ar1.view()\n",
    "ar1[2]=20\n",
    "print(ar1)\n",
    "print(vi)"
   ]
  },
  {
   "cell_type": "code",
   "execution_count": 43,
   "id": "1136de84-c261-4a8b-808b-1ee145ea4f24",
   "metadata": {},
   "outputs": [],
   "source": [
    "#the difference between copy and view is in copy if we change the original data no effect show in copied data  but if we use view then after change in either original or viewed data , that effect both the data"
   ]
  },
  {
   "cell_type": "markdown",
   "id": "13d8e622-e77f-448d-8afa-948ca373f8c9",
   "metadata": {},
   "source": [
    "#JOin array"
   ]
  },
  {
   "cell_type": "code",
   "execution_count": 44,
   "id": "13b26349-9694-47fb-a3be-3bddd1de5447",
   "metadata": {},
   "outputs": [],
   "source": [
    "#be remember we can join two array if and only if both the array have the same number of elements"
   ]
  },
  {
   "cell_type": "code",
   "execution_count": 45,
   "id": "d3f8de2b-5072-4260-87d5-a7733640d2d4",
   "metadata": {},
   "outputs": [
    {
     "name": "stdout",
     "output_type": "stream",
     "text": [
      "[1 2 3 4 5 6 7 8]\n"
     ]
    }
   ],
   "source": [
    "cc1=np.array([1,2,3,4])\n",
    "cc2=np.array([5,6,7,8])\n",
    "cc3=np.concatenate((cc1, cc2))\n",
    "print(cc3)"
   ]
  },
  {
   "cell_type": "code",
   "execution_count": 46,
   "id": "b543255d-f045-42c6-bd6f-ddc8a72727ac",
   "metadata": {},
   "outputs": [
    {
     "name": "stdout",
     "output_type": "stream",
     "text": [
      "[[1 2 5 6]\n",
      " [3 4 7 8]]\n"
     ]
    }
   ],
   "source": [
    "# for two and three dimension you have to tell that from where it have to merge means from axis =0 or axis=1\n",
    "cc4=np.array([[1,2],[3,4]])\n",
    "cc5=np.array([[5,6],[7,8]])\n",
    "cc6=np.concatenate((cc4, cc5),axis=1)\n",
    "print(cc6)"
   ]
  },
  {
   "cell_type": "code",
   "execution_count": 47,
   "id": "8168c667-353e-41ff-9eca-8c972b44bca1",
   "metadata": {},
   "outputs": [],
   "source": [
    "#similarly we have a stack function which also do the same function but in stack we have 3 new function hstack, vstack, dstack these three join the 2 or 3 or any dimension array with rowise, columnwise and heightwise respectively"
   ]
  },
  {
   "cell_type": "markdown",
   "id": "c3dfa229-8e2a-4f14-b740-d9c6cfbf852e",
   "metadata": {},
   "source": [
    "#split"
   ]
  },
  {
   "cell_type": "code",
   "execution_count": 48,
   "id": "dc3dc7d7-3c26-4121-9ae6-46ebf9f6d6c2",
   "metadata": {},
   "outputs": [
    {
     "name": "stdout",
     "output_type": "stream",
     "text": [
      "[array([1, 2]), array([3, 4])]\n"
     ]
    }
   ],
   "source": [
    "cc7=np.array_split(cc1,2)\n",
    "print(cc7)"
   ]
  },
  {
   "cell_type": "code",
   "execution_count": 49,
   "id": "f0e8c1b9-5df0-44a9-b0aa-c55a01c2bfb4",
   "metadata": {},
   "outputs": [],
   "source": [
    "#remeber that split return the array in form of list"
   ]
  },
  {
   "cell_type": "code",
   "execution_count": 50,
   "id": "eaf9d55c-e5ca-4240-880b-429628d8fbc0",
   "metadata": {},
   "outputs": [
    {
     "name": "stdout",
     "output_type": "stream",
     "text": [
      "(array([1, 4, 9], dtype=int64),)\n"
     ]
    }
   ],
   "source": [
    "#where function give the indices of the elements \n",
    "dd = np.array([4,5,2,4,5,6,2,1,4,5])\n",
    "dd1=np.where(dd==5)\n",
    "print(dd1)"
   ]
  },
  {
   "cell_type": "code",
   "execution_count": 51,
   "id": "0e2c237d-2225-4fd0-91ed-aca64a39cbd4",
   "metadata": {},
   "outputs": [
    {
     "name": "stdout",
     "output_type": "stream",
     "text": [
      "[4 7]\n"
     ]
    }
   ],
   "source": [
    "#searchsorted function tell the place where the given element can be inserted in a given sortwd arrray\n",
    "dd2 = np.array([1,2,3,4,6,7,8,10,11])\n",
    "dd3=np.searchsorted(dd2,[5,9],side=\"right\")\n",
    "print(dd3)"
   ]
  },
  {
   "cell_type": "code",
   "execution_count": 52,
   "id": "c2425ed4-0cfb-4344-a891-232aeb6c6b5f",
   "metadata": {},
   "outputs": [],
   "source": [
    "#np.sort function is use to sort the array with numbers and string also, it can also work for 2d array and 3d aarray\n"
   ]
  },
  {
   "cell_type": "markdown",
   "id": "744ca3f3-0c55-4d4c-855e-0d055df587d5",
   "metadata": {},
   "source": [
    "Filter array"
   ]
  },
  {
   "cell_type": "code",
   "execution_count": 53,
   "id": "37037995-fc1b-450b-8793-4896aa7e8a53",
   "metadata": {},
   "outputs": [
    {
     "name": "stdout",
     "output_type": "stream",
     "text": [
      "['a' 'd']\n"
     ]
    }
   ],
   "source": [
    "#by filter function you can filter the elements by using another array of having true and false\n",
    "dd4=np.array([\"a\",\"b\",\"c\",\"d\"])\n",
    "f=[True, False, False, True]\n",
    "new_a=dd4[f]\n",
    "print(new_a)"
   ]
  },
  {
   "cell_type": "code",
   "execution_count": 54,
   "id": "af1dcd2a-40f3-4b83-8e4c-604539aaa0e7",
   "metadata": {},
   "outputs": [],
   "source": [
    "#np.random.shuffle shuffle the array in any form"
   ]
  },
  {
   "cell_type": "code",
   "execution_count": 55,
   "id": "493c70c2-cd09-4c71-9fd1-3e045a7866d0",
   "metadata": {},
   "outputs": [
    {
     "name": "stdout",
     "output_type": "stream",
     "text": [
      "(array([1, 2, 3, 4, 5, 6, 7, 8, 9]), array([ 0,  1,  2,  4,  7,  9, 10, 13, 12], dtype=int64), array([2, 4, 2, 3, 1, 2, 2, 1, 1], dtype=int64))\n"
     ]
    }
   ],
   "source": [
    "#np.unique give the unique element of the array \n",
    "dd5=np.array([1,2,3,2,4,2,4,5,2,6,7,7,9,8,6,4,1,3])\n",
    "dd6=np.unique(dd5, return_index=True, return_counts=True)\n",
    "print(dd6)"
   ]
  },
  {
   "cell_type": "code",
   "execution_count": 56,
   "id": "7dd8f054-46a2-4eae-b9ac-58e7bbd4b6bd",
   "metadata": {},
   "outputs": [
    {
     "name": "stdout",
     "output_type": "stream",
     "text": [
      "[[1 2 3]\n",
      " [2 4 2]]\n",
      "\n",
      "[1 2 2 4 3 2]\n"
     ]
    }
   ],
   "source": [
    "#np.resize function can chnage the dimension of the array\n",
    "ss=np.resize(dd5,(2,3))\n",
    "print(ss)\n",
    "print()\n",
    "print(ss.flatten(order=\"F\"))"
   ]
  },
  {
   "cell_type": "code",
   "execution_count": 58,
   "id": "bee071de-3743-47e3-952d-ecb829912c09",
   "metadata": {},
   "outputs": [],
   "source": [
    "#np.insert can insert elements in the array but floating pnumbers cannot insert it can also insert in row and columns both\n",
    "#np.append can insert elements in row and columns both and it can also insert floating numbers\n",
    "#np.delete can delete the numbers whose indexing you will pass"
   ]
  },
  {
   "cell_type": "code",
   "execution_count": 59,
   "id": "315ad077-5b0c-4099-9fe5-d3505b4aaa06",
   "metadata": {},
   "outputs": [],
   "source": [
    "#there are many function related to matrix \n",
    "#for transpose --> np.transpose(var) or var.T\n",
    "#for swapaxes--> np.swapaxes(var)\n",
    "#for inverse--> np.linalg.inv(var)\n",
    "#for powerr of the matrix--> np.linalg.matrix_power(var,power)\n",
    "#for determinant of the matrix --> np.linalg.det(var)"
   ]
  },
  {
   "cell_type": "code",
   "execution_count": 62,
   "id": "00c106c5-908f-4e12-be4e-5fc95c7d0b9a",
   "metadata": {},
   "outputs": [
    {
     "name": "stdout",
     "output_type": "stream",
     "text": [
      "[[14 11]\n",
      " [44 35]]\n"
     ]
    }
   ],
   "source": [
    "cpu=np.array([[1,2],[4,5]])\n",
    "cpu2=np.array([[6,5],[4,3]])\n",
    "print(np.dot(cpu,cpu2))"
   ]
  },
  {
   "cell_type": "code",
   "execution_count": null,
   "id": "30d5d774-68f5-4abd-a55e-57d50a750a35",
   "metadata": {},
   "outputs": [],
   "source": []
  }
 ],
 "metadata": {
  "kernelspec": {
   "display_name": "Python 3 (ipykernel)",
   "language": "python",
   "name": "python3"
  },
  "language_info": {
   "codemirror_mode": {
    "name": "ipython",
    "version": 3
   },
   "file_extension": ".py",
   "mimetype": "text/x-python",
   "name": "python",
   "nbconvert_exporter": "python",
   "pygments_lexer": "ipython3",
   "version": "3.12.3"
  }
 },
 "nbformat": 4,
 "nbformat_minor": 5
}
